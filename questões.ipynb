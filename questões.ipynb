{
  "nbformat": 4,
  "nbformat_minor": 0,
  "metadata": {
    "colab": {
      "provenance": [],
      "authorship_tag": "ABX9TyOkGNdOvBdO51cBrYME4AEn",
      "include_colab_link": true
    },
    "kernelspec": {
      "name": "python3",
      "display_name": "Python 3"
    },
    "language_info": {
      "name": "python"
    }
  },
  "cells": [
    {
      "cell_type": "markdown",
      "metadata": {
        "id": "view-in-github",
        "colab_type": "text"
      },
      "source": [
        "<a href=\"https://colab.research.google.com/github/Take0202/av1-programa-o/blob/main/quest%C3%B5es.ipynb\" target=\"_parent\"><img src=\"https://colab.research.google.com/assets/colab-badge.svg\" alt=\"Open In Colab\"/></a>"
      ]
    },
    {
      "cell_type": "code",
      "execution_count": null,
      "metadata": {
        "id": "1xriGOF1jbvR"
      },
      "outputs": [],
      "source": [
        "numeros = []\n",
        "for i in range(3):\n",
        "  while True:\n",
        "    try:\n",
        "      numero = int(input(f\"Digite o {i+1}º número inteiro: \"))\n",
        "      numeros.append(numero)\n",
        "      break\n",
        "    except ValueError:\n",
        "      print(\"Entrada inválida. Digite um número inteiro.\")\n",
        "\n",
        "numeros.sort()\n",
        "print(\"Números em ordem crescente:\", numeros)\n"
      ]
    },
    {
      "cell_type": "code",
      "source": [
        "for i in range(100):\n",
        "  print(i)"
      ],
      "metadata": {
        "id": "AhTzL6ig2r-z"
      },
      "execution_count": null,
      "outputs": []
    },
    {
      "cell_type": "code",
      "source": [
        "nome = input(\"Digite seu nome (até 120 caracteres):\")\n",
        "nome = nome[:120]\n",
        "print(f\"Seja bem-vindo(a), {nome}!\")\n"
      ],
      "metadata": {
        "id": "rzw3l-N25tut"
      },
      "execution_count": null,
      "outputs": []
    },
    {
      "cell_type": "code",
      "source": [
        "def analyze_grades():\n",
        "    n = int(input())\n",
        "    grades = []\n",
        "    for _ in range(n):\n",
        "        grades.append(float(input()))\n",
        "\n",
        "    average = sum(grades) / n\n",
        "\n",
        "    above_average_count = 0\n",
        "    below_average_count = 0\n",
        "\n",
        "    for grade in grades:\n",
        "        if grade > average * 1.1:\n",
        "            above_average_count += 1\n",
        "        elif grade < average * 0.9:\n",
        "            below_average_count += 1\n",
        "\n",
        "    print(f\"{average:.2f}\")\n",
        "    print(above_average_count)\n",
        "    print(below_average_count)\n",
        "\n",
        "analyze_grades()\n"
      ],
      "metadata": {
        "id": "IlBwyKUr7h-k"
      },
      "execution_count": null,
      "outputs": []
    },
    {
      "cell_type": "code",
      "source": [
        "\n",
        "\n",
        "def reverse_string(input_string):\n",
        "  return input_string[::-1]\n"
      ],
      "metadata": {
        "id": "N60tepEb7uu0"
      },
      "execution_count": null,
      "outputs": []
    },
    {
      "cell_type": "code",
      "source": [
        "string = input()\n",
        "char1 = input()\n",
        "char2 = input()\n",
        "\n",
        "result = \"\"\n",
        "for char in string:\n",
        "  if char == char1:\n",
        "    result += char2\n",
        "  else:\n",
        "    result += char\n",
        "\n",
        "result\n"
      ],
      "metadata": {
        "id": "RGBN6xiO73Hq"
      },
      "execution_count": null,
      "outputs": []
    },
    {
      "cell_type": "code",
      "source": [
        "string = input()\n",
        "char = input()\n",
        "\n",
        "index = -1\n",
        "for i in range(len(string)):\n",
        "  if string[i] == char:\n",
        "    index = i\n",
        "    break\n",
        "\n",
        "index\n"
      ],
      "metadata": {
        "id": "aS1nUxE08Q1f"
      },
      "execution_count": null,
      "outputs": []
    },
    {
      "cell_type": "code",
      "source": [
        " def print_numbers_with_remainder(x, y):\n",
        "    \"\"\"\n",
        "    Prints numbers between x and y (inclusive) whose remainder when divided by 5 is 2 or 3.\n",
        "\n",
        "    Args:\n",
        "        x: The starting number.\n",
        "        y: The ending number.\n",
        "    \"\"\"\n",
        "\n",
        "    if x > y:\n",
        "        x, y = y, x\n",
        "\n",
        "    for num in range(x, y + 1):\n",
        "        if num % 5 == 2 or num % 5 == 3:\n",
        "            print(num)\n",
        "\n",
        "\n",
        "x = int(input())\n",
        "y = int(input())\n",
        "\n",
        "\n",
        "print_numbers_with_remainder(x, y)\n"
      ],
      "metadata": {
        "id": "64p0l7v_8gAO"
      },
      "execution_count": null,
      "outputs": []
    },
    {
      "cell_type": "code",
      "source": [
        "numeros = []\n",
        "n = int(input(\"Digite a quantidade de números: \"))\n",
        "for i in range(n):\n",
        "  while True:\n",
        "    try:\n",
        "      numero = int(input(f\"Digite o {i+1}º número inteiro: \"))\n",
        "      numeros.append(numero)\n",
        "      break\n",
        "    except ValueError:\n",
        "      print(\"Entrada inválida. Digite um número inteiro.\")\n",
        "\n",
        "print(\"Números na ordem inversa:\")\n",
        "for numero in reversed(numeros):\n",
        "numero\n"
      ],
      "metadata": {
        "id": "unVe9A_Z8t7b"
      },
      "execution_count": null,
      "outputs": []
    },
    {
      "cell_type": "code",
      "source": [
        "numeros = []\n",
        "n = int(input(\"Digite a quantidade de números: \"))\n",
        "for i in range(n):\n",
        "  while True:\n",
        "    try:\n",
        "      numero = int(input(f\"Digite o {i+1}º número inteiro: \"))\n",
        "      numeros.append(numero)\n",
        "      break\n",
        "    except ValueError:\n",
        "      print(\"Entrada inválida. Digite um número inteiro.\")\n",
        "\n",
        "numeros.sort(reverse=True)\n",
        "print(\"Números em ordem decrescente:\", numeros)\n"
      ],
      "metadata": {
        "id": "L-bQux8Y85Im"
      },
      "execution_count": null,
      "outputs": []
    }
  ]
}